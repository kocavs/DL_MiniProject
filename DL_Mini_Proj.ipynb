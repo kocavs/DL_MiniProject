{
  "nbformat": 4,
  "nbformat_minor": 0,
  "metadata": {
    "colab": {
      "provenance": []
    },
    "kernelspec": {
      "name": "python3",
      "display_name": "Python 3"
    },
    "language_info": {
      "name": "python"
    },
    "accelerator": "GPU",
    "gpuClass": "standard"
  },
  "cells": [
    {
      "cell_type": "markdown",
      "metadata": {
        "id": "view-in-github"
      },
      "source": [
        "<a href=\"https://colab.research.google.com/github/kocavs/DL_MiniProject/blob/JD5226Branch/DL_Mini_Proj.ipynb\" target=\"_parent\"><img src=\"https://colab.research.google.com/assets/colab-badge.svg\" alt=\"Open In Colab\"/></a>"
      ]
    },
    {
      "cell_type": "markdown",
      "source": [
        "# ResNet For CIFAR0-10"
      ],
      "metadata": {
        "id": "5Cgn58bGLA7l"
      }
    },
    {
      "cell_type": "code",
      "source": [
        "import torch\n",
        "import torch.nn as nn\n",
        "import numpy as np\n",
        "#import renet\n",
        "\n",
        "import torchvision\n",
        "import torchvision.transforms as transforms\n",
        "\n",
        "import os\n",
        "from torchsummary import summary\n",
        "import torch.utils.data as data"
      ],
      "metadata": {
        "id": "enCe4Ish2n47"
      },
      "execution_count": 2,
      "outputs": []
    },
    {
      "cell_type": "markdown",
      "source": [
        "### Model Construction"
      ],
      "metadata": {
        "id": "EgqUa4LeK3Tr"
      }
    },
    {
      "cell_type": "code",
      "source": [
        "class InceptionModule(nn.Module):\n",
        "    def __init__(self, in_channels, out_channels):\n",
        "        super(InceptionModule, self).__init__()\n",
        "\n",
        "        # Branch 1: 1x1 convolution\n",
        "        self.branch1 = nn.Sequential(\n",
        "            nn.Conv2d(in_channels, out_channels, kernel_size=1, stride=1, padding=0),\n",
        "            nn.BatchNorm2d(out_channels),\n",
        "            nn.ReLU()\n",
        "        )\n",
        "\n",
        "        # Branch 2: 1x1 convolution followed by 3x3 convolution\n",
        "        self.branch2 = nn.Sequential(\n",
        "            nn.Conv2d(in_channels, out_channels, kernel_size=1, stride=1, padding=0),\n",
        "            nn.BatchNorm2d(out_channels),\n",
        "            nn.ReLU(),\n",
        "            nn.Conv2d(out_channels, out_channels, kernel_size=3, stride=1, padding=1),\n",
        "            nn.BatchNorm2d(out_channels),\n",
        "            nn.ReLU()\n",
        "        )\n",
        "\n",
        "    def forward(self, x):\n",
        "        branch1_out = self.branch1(x)\n",
        "        branch2_out = self.branch2(x)\n",
        "\n",
        "        return torch.cat([branch1_out, branch2_out], 1)\n",
        "\n",
        "class InceptionResNet(nn.Module):\n",
        "    def __init__(self, num_classes=10):\n",
        "        super(InceptionResNet, self).__init__()\n",
        "\n",
        "        self.conv1 = nn.Conv2d(3, 64, kernel_size=7, stride=2, padding=3)\n",
        "        self.bn1 = nn.BatchNorm2d(64)\n",
        "        self.relu = nn.ReLU()\n",
        "        self.maxpool = nn.MaxPool2d(kernel_size=3, stride=2, padding=1)\n",
        "\n",
        "        self.layer1 = self._make_layer(64, 64, 1)\n",
        "        self.layer2 = self._make_layer(128, 128, 2, stride=2)\n",
        "        self.layer3 = self._make_layer(256, 256, 2, stride=2)\n",
        "        self.layer4 = self._make_layer(512, 512, 1, stride=2)\n",
        "        \n",
        "\n",
        "        self.avgpool = nn.AdaptiveAvgPool2d((1, 1))\n",
        "        self.fc = nn.Linear(1024, num_classes)\n",
        "\n",
        "    def _make_layer(self, in_channels, out_channels, num_blocks, stride=1):\n",
        "        layers = []\n",
        "        for _ in range(num_blocks):\n",
        "            layers.append(InceptionModule(in_channels, out_channels))\n",
        "            in_channels = out_channels * 2\n",
        "\n",
        "        if stride == 2:\n",
        "            layers.append(nn.MaxPool2d(kernel_size=3, stride=2, padding=1))\n",
        "\n",
        "        return nn.Sequential(*layers)\n",
        "\n",
        "    def forward(self, x):\n",
        "        x = self.conv1(x)\n",
        "        x = self.bn1(x)\n",
        "        x = self.relu(x)\n",
        "        x = self.maxpool(x)\n",
        "\n",
        "        x = self.layer1(x)\n",
        "        x = self.layer2(x)\n",
        "        x = self.layer3(x)\n",
        "        x = self.layer4(x)\n",
        "\n",
        "        x = self.avgpool(x)\n",
        "        x = x.view(x.size(0), -1)\n",
        "        x = self.fc(x)\n",
        "\n",
        "        return x\n",
        "\n",
        "# Initialize the Inception-ResNet model"
      ],
      "metadata": {
        "id": "13PaS06K0N3g"
      },
      "execution_count": 3,
      "outputs": []
    },
    {
      "cell_type": "code",
      "source": [
        "device = 'cuda' if torch.cuda.is_available() else 'cpu'\n",
        "model = InceptionResNet(num_classes=10).to(device)"
      ],
      "metadata": {
        "id": "JZ5l09322n6z"
      },
      "execution_count": 29,
      "outputs": []
    },
    {
      "cell_type": "code",
      "source": [
        "summary(model, (3, 32, 32))"
      ],
      "metadata": {
        "id": "f99yZ7-kNwN9"
      },
      "execution_count": null,
      "outputs": []
    },
    {
      "cell_type": "markdown",
      "source": [
        "Construction Complete"
      ],
      "metadata": {
        "id": "P1F2LXoFL5K8"
      }
    },
    {
      "cell_type": "markdown",
      "source": [
        "### Data Preprocessing"
      ],
      "metadata": {
        "id": "QwDtf6ypL-E9"
      }
    },
    {
      "cell_type": "code",
      "source": [
        "class Cutout(object):\n",
        "  \"\"\"Randomly mask out one or more patches from an image.\n",
        "  Args:\n",
        "      n_holes (int): Number of patches to cut out of each image.\n",
        "      length (int): The length (in pixels) of each square patch.\n",
        "  \"\"\"\n",
        "  def __init__(self, n_holes, length):\n",
        "      self.n_holes = n_holes\n",
        "      self.length = length\n",
        "\n",
        "  def __call__(self, img):\n",
        "      \"\"\"\n",
        "      Args:\n",
        "          img (Tensor): Tensor image of size (C, H, W).\n",
        "      Returns:\n",
        "          Tensor: Image with n_holes of dimension length x length cut out of it.\n",
        "      \"\"\"\n",
        "      h = img.size(1)\n",
        "      w = img.size(2)\n",
        "\n",
        "      mask = np.ones((h, w), np.float32)\n",
        "\n",
        "      for n in range(self.n_holes):\n",
        "          y = np.random.randint(h)\n",
        "          x = np.random.randint(w)\n",
        "\n",
        "          y1 = np.clip(y - self.length // 2, 0, h)\n",
        "          y2 = np.clip(y + self.length // 2, 0, h)\n",
        "          x1 = np.clip(x - self.length // 2, 0, w)\n",
        "          x2 = np.clip(x + self.length // 2, 0, w)\n",
        "\n",
        "          mask[y1: y2, x1: x2] = 0.\n",
        "\n",
        "      mask = torch.from_numpy(mask)\n",
        "      mask = mask.expand_as(img)\n",
        "      img = img * mask\n",
        "\n",
        "      return img"
      ],
      "metadata": {
        "id": "TneJZzB8Jmqs"
      },
      "execution_count": 5,
      "outputs": []
    },
    {
      "cell_type": "code",
      "source": [
        "def load_CIFAR10(batch_size, train_ratio):\n",
        "\n",
        "  ROOT = './data'\n",
        "  trainset = torchvision.datasets.CIFAR10(\n",
        "      root = ROOT,\n",
        "      train = True, \n",
        "      download = True\n",
        "  )\n",
        "\n",
        "  # Compute means and standard deviations\n",
        "  means = trainset.data.mean(axis=(0,1,2)) / 255\n",
        "  stds = trainset.data.std(axis=(0,1,2)) / 255\n",
        "  #print(means, stds)\n",
        "\n",
        "  # Preprocess setting\n",
        "  transform_train = transforms.Compose([\n",
        "      transforms.RandomCrop(32, padding=4),\n",
        "      transforms.RandomHorizontalFlip(),\n",
        "      transforms.ToTensor(),\n",
        "      transforms.Normalize(mean=means, std=stds),\n",
        "      Cutout(n_holes=1, length=16)\n",
        "  ])\n",
        "  transform_test = transforms.Compose([\n",
        "      transforms.ToTensor(),\n",
        "      transforms.Normalize(mean=means, std=stds)\n",
        "  ])\n",
        "\n",
        "  # Load the dataset\n",
        "  trainset = torchvision.datasets.CIFAR10(\n",
        "      root = ROOT, \n",
        "      train = True, \n",
        "      download = True, \n",
        "      transform = transform_train\n",
        "  )\n",
        "  testset = torchvision.datasets.CIFAR10(\n",
        "      root = ROOT, \n",
        "      train = False, \n",
        "      download = True, \n",
        "      transform = transform_test\n",
        "  )\n",
        "\n",
        "  # Split trainset for validset\n",
        "  n_train = int(len(trainset) * train_ratio)\n",
        "  n_valid = len(trainset) - n_train\n",
        "  train_dataset, valid_dataset = data.random_split(trainset, [n_train, n_valid])\n",
        "  \n",
        "  # Build dataloader\n",
        "  train_iterator = data.DataLoader(train_dataset, batch_size)\n",
        "  valid_iterator = data.DataLoader(valid_dataset, batch_size)\n",
        "  test_iterator = data.DataLoader(testset, batch_size)\n",
        "\n",
        "  return train_iterator, valid_iterator, test_iterator"
      ],
      "metadata": {
        "id": "1DTMZC3WJmwF"
      },
      "execution_count": 6,
      "outputs": []
    },
    {
      "cell_type": "code",
      "source": [
        "trainloader, validloader, testloader = load_CIFAR10(batch_size=128, train_ratio=0.9)"
      ],
      "metadata": {
        "colab": {
          "base_uri": "https://localhost:8080/"
        },
        "id": "21PibWhZJ6da",
        "outputId": "b493b659-ebde-4219-bb7d-548e372cc55b"
      },
      "execution_count": 22,
      "outputs": [
        {
          "output_type": "stream",
          "name": "stdout",
          "text": [
            "Files already downloaded and verified\n",
            "Files already downloaded and verified\n",
            "Files already downloaded and verified\n"
          ]
        }
      ]
    },
    {
      "cell_type": "code",
      "source": [
        "criterion = torch.nn.CrossEntropyLoss()\n",
        "optimizer = torch.optim.SGD(model.parameters(), lr=0.1)\n",
        "#scheduler = torch.optim.lr_scheduler.CosineAnnealingLR(optimizer, T_max=200)\n",
        "\n",
        "scheduler = torch.optim.lr_scheduler.ReduceLROnPlateau(\n",
        "    optimizer=optimizer,\n",
        "    mode=\"min\",\n",
        "    factor=0.5,\n",
        "    patience=10\n",
        ")"
      ],
      "metadata": {
        "id": "v6RvRO3e6Rjp"
      },
      "execution_count": 33,
      "outputs": []
    },
    {
      "cell_type": "code",
      "source": [
        "def validate(validloader):\n",
        "    # Validation\n",
        "    model.eval()\n",
        "    valid_loss = 0\n",
        "    correct = 0\n",
        "    total = 0\n",
        "    for batch_idx, (inputs, targets) in enumerate(validloader):\n",
        "        inputs, targets = inputs.to(device), targets.to(device)\n",
        "\n",
        "        outputs = model(inputs)\n",
        "        loss = criterion(outputs, targets)\n",
        "\n",
        "        valid_loss += loss.item()\n",
        "        _, predicted = outputs.max(1)\n",
        "        total += targets.size(0)\n",
        "        correct += predicted.eq(targets).sum().item()\n",
        "    return valid_loss/total, 100*correct/total"
      ],
      "metadata": {
        "id": "kMNBVTtQjz-M"
      },
      "execution_count": 15,
      "outputs": []
    },
    {
      "cell_type": "code",
      "source": [
        "def train(epoch):\n",
        "    print('\\nEpoch: %d' % epoch)\n",
        "    model.train()\n",
        "    train_loss = 0\n",
        "    correct = 0\n",
        "    total = 0\n",
        "    for batch_idx, (inputs, targets) in enumerate(trainloader):\n",
        "        inputs, targets = inputs.to(device), targets.to(device)\n",
        "        optimizer.zero_grad()\n",
        "        outputs = model(inputs)\n",
        "        loss = criterion(outputs, targets)\n",
        "        loss.backward()\n",
        "        optimizer.step()\n",
        "\n",
        "        train_loss += loss.item()\n",
        "        _, predicted = outputs.max(1)\n",
        "        total += targets.size(0)\n",
        "        correct += predicted.eq(targets).sum().item()\n",
        "    print(\"Train Set Loss:\",train_loss/total)\n",
        "\n",
        "    # validation\n",
        "    valid_loss, _ = validate(validloader)\n",
        "    print(\"Valid Set Loss:\",valid_loss)\n",
        "    scheduler.step(valid_loss)"
      ],
      "metadata": {
        "id": "JbBSkXWE2n_7"
      },
      "execution_count": 25,
      "outputs": []
    },
    {
      "cell_type": "code",
      "source": [
        "def test(epoch):\n",
        "    global best_acc\n",
        "    model.eval()\n",
        "    test_loss = 0\n",
        "    correct = 0\n",
        "    total = 0\n",
        "    with torch.no_grad():\n",
        "        for batch_idx, (inputs, targets) in enumerate(testloader):\n",
        "            inputs, targets = inputs.to(device), targets.to(device)\n",
        "            outputs = model(inputs)\n",
        "            loss = criterion(outputs, targets)\n",
        "\n",
        "            test_loss += loss.item()\n",
        "            _, predicted = outputs.max(1)\n",
        "            total += targets.size(0)\n",
        "            correct += predicted.eq(targets).sum().item()\n",
        "\n",
        "    # Save checkpoint.\n",
        "    acc = 100.*correct/total\n",
        "    if acc > best_acc:\n",
        "        print('Saving..')\n",
        "        state = {\n",
        "            'net': model.state_dict(),\n",
        "            'acc': acc,\n",
        "            'epoch': epoch,\n",
        "        }\n",
        "        if not os.path.isdir('checkpoint'):\n",
        "            os.mkdir('checkpoint')\n",
        "        torch.save(state, './checkpoint/ckpt.pth')\n",
        "        best_acc = acc\n",
        "    print('Test Set Accuracy:',acc)\n",
        "    return acc\n"
      ],
      "metadata": {
        "id": "LxH7SkJJ2oBp"
      },
      "execution_count": 26,
      "outputs": []
    },
    {
      "cell_type": "code",
      "source": [
        "best_acc = 0  # best test accuracy\n",
        "start_epoch = 0  # start from epoch 0 or last checkpoint epoch\n",
        "\n",
        "for epoch in range(start_epoch, start_epoch+100):\n",
        "    train(epoch)\n",
        "    test(epoch)"
      ],
      "metadata": {
        "id": "pzs360FC2oKB",
        "colab": {
          "base_uri": "https://localhost:8080/",
          "height": 1000
        },
        "outputId": "eb121145-ce8d-423d-b482-ca6af5c51ed4"
      },
      "execution_count": 35,
      "outputs": [
        {
          "output_type": "stream",
          "name": "stdout",
          "text": [
            "\n",
            "Epoch: 0\n",
            "Train Set Loss: 0.0010195809024075666\n",
            "Valid Set Loss: 0.005435556328296662\n",
            "Saving..\n",
            "Test Set Accuracy: 87.19\n",
            "\n",
            "Epoch: 1\n",
            "Train Set Loss: 0.0010617148915926615\n",
            "Valid Set Loss: 0.00536306586265564\n",
            "Test Set Accuracy: 87.19\n",
            "\n",
            "Epoch: 2\n",
            "Train Set Loss: 0.0010534162309434679\n",
            "Valid Set Loss: 0.005586202162504196\n",
            "Saving..\n",
            "Test Set Accuracy: 87.22\n",
            "\n",
            "Epoch: 3\n",
            "Train Set Loss: 0.0010544422104126878\n",
            "Valid Set Loss: 0.005359046465158462\n",
            "Saving..\n",
            "Test Set Accuracy: 87.34\n",
            "\n",
            "Epoch: 4\n",
            "Train Set Loss: 0.001066278726566169\n",
            "Valid Set Loss: 0.005332967257499694\n",
            "Saving..\n",
            "Test Set Accuracy: 87.39\n",
            "\n",
            "Epoch: 5\n",
            "Train Set Loss: 0.0009809997799909778\n",
            "Valid Set Loss: 0.005144405007362365\n",
            "Saving..\n",
            "Test Set Accuracy: 87.6\n",
            "\n",
            "Epoch: 6\n",
            "Train Set Loss: 0.000907975258760982\n",
            "Valid Set Loss: 0.005020444005727768\n",
            "Saving..\n",
            "Test Set Accuracy: 87.74\n",
            "\n",
            "Epoch: 7\n",
            "Train Set Loss: 0.0009117842636174626\n",
            "Valid Set Loss: 0.005433052515983581\n",
            "Saving..\n",
            "Test Set Accuracy: 87.77\n",
            "\n",
            "Epoch: 8\n",
            "Train Set Loss: 0.0009228754006326198\n",
            "Valid Set Loss: 0.005344606900215149\n",
            "Test Set Accuracy: 87.65\n",
            "\n",
            "Epoch: 9\n",
            "Train Set Loss: 0.0009100270272956954\n",
            "Valid Set Loss: 0.004881346346437931\n",
            "Saving..\n",
            "Test Set Accuracy: 87.8\n",
            "\n",
            "Epoch: 10\n",
            "Train Set Loss: 0.0009226971103913254\n",
            "Valid Set Loss: 0.005309621840715408\n",
            "Test Set Accuracy: 87.79\n",
            "\n",
            "Epoch: 11\n",
            "Train Set Loss: 0.0008735245861113071\n",
            "Valid Set Loss: 0.005296474480628967\n",
            "Test Set Accuracy: 87.6\n",
            "\n",
            "Epoch: 12\n",
            "Train Set Loss: 0.000894747739388711\n",
            "Valid Set Loss: 0.005161678296327591\n",
            "Test Set Accuracy: 87.63\n",
            "\n",
            "Epoch: 13\n",
            "Train Set Loss: 0.0009111786807990736\n",
            "Valid Set Loss: 0.004961186581850052\n",
            "Saving..\n",
            "Test Set Accuracy: 87.84\n",
            "\n",
            "Epoch: 14\n",
            "Train Set Loss: 0.0008643676080223587\n",
            "Valid Set Loss: 0.005067362707853317\n",
            "Test Set Accuracy: 87.71\n",
            "\n",
            "Epoch: 15\n",
            "Train Set Loss: 0.0008111447543319728\n",
            "Valid Set Loss: 0.005502375704050064\n",
            "Saving..\n",
            "Test Set Accuracy: 87.89\n",
            "\n",
            "Epoch: 16\n",
            "Train Set Loss: 0.0008542162279287975\n",
            "Valid Set Loss: 0.0050394456028938295\n",
            "Test Set Accuracy: 87.79\n",
            "\n",
            "Epoch: 17\n",
            "Train Set Loss: 0.0008083165867047177\n",
            "Valid Set Loss: 0.005278444033861161\n",
            "Test Set Accuracy: 87.75\n",
            "\n",
            "Epoch: 18\n",
            "Train Set Loss: 0.0008387869502107302\n",
            "Valid Set Loss: 0.005152489930391311\n",
            "Saving..\n",
            "Test Set Accuracy: 88.06\n",
            "\n",
            "Epoch: 19\n",
            "Train Set Loss: 0.0008066488310694694\n",
            "Valid Set Loss: 0.005317835342884064\n",
            "Test Set Accuracy: 87.97\n",
            "\n",
            "Epoch: 20\n",
            "Train Set Loss: 0.0007933749722937743\n",
            "Valid Set Loss: 0.005137743580341339\n",
            "Test Set Accuracy: 87.91\n",
            "\n",
            "Epoch: 21\n",
            "Train Set Loss: 0.0008260339029961162\n",
            "Valid Set Loss: 0.005248905426263809\n",
            "Test Set Accuracy: 87.88\n",
            "\n",
            "Epoch: 22\n",
            "Train Set Loss: 0.0007952541816151805\n",
            "Valid Set Loss: 0.0050374084293842315\n",
            "Test Set Accuracy: 87.85\n",
            "\n",
            "Epoch: 23\n",
            "Train Set Loss: 0.0008079620292203293\n",
            "Valid Set Loss: 0.0054349348187446595\n",
            "Test Set Accuracy: 87.89\n",
            "\n",
            "Epoch: 24\n",
            "Train Set Loss: 0.0007994778633531597\n",
            "Valid Set Loss: 0.005305290067195892\n",
            "Test Set Accuracy: 87.78\n",
            "\n",
            "Epoch: 25\n",
            "Train Set Loss: 0.0007833917258928219\n",
            "Valid Set Loss: 0.005099220335483551\n",
            "Test Set Accuracy: 87.96\n",
            "\n",
            "Epoch: 26\n",
            "Train Set Loss: 0.0007905961306972636\n",
            "Valid Set Loss: 0.005579784792661667\n",
            "Test Set Accuracy: 87.86\n",
            "\n",
            "Epoch: 27\n",
            "Train Set Loss: 0.0007817018268836869\n",
            "Valid Set Loss: 0.005063088184595108\n",
            "Test Set Accuracy: 87.92\n",
            "\n",
            "Epoch: 28\n",
            "Train Set Loss: 0.0007507707563953267\n",
            "Valid Set Loss: 0.0052161519169807435\n",
            "Test Set Accuracy: 87.94\n",
            "\n",
            "Epoch: 29\n",
            "Train Set Loss: 0.0007628169172339969\n",
            "Valid Set Loss: 0.005289673066139221\n",
            "Test Set Accuracy: 87.92\n",
            "\n",
            "Epoch: 30\n",
            "Train Set Loss: 0.0007772348676290777\n",
            "Valid Set Loss: 0.005027975392341614\n",
            "Test Set Accuracy: 87.88\n",
            "\n",
            "Epoch: 31\n",
            "Train Set Loss: 0.0007344875923875306\n",
            "Valid Set Loss: 0.005107128518819809\n",
            "Test Set Accuracy: 88.02\n",
            "\n",
            "Epoch: 32\n",
            "Train Set Loss: 0.0007418203612996472\n",
            "Valid Set Loss: 0.005135016983747482\n",
            "Test Set Accuracy: 87.91\n",
            "\n",
            "Epoch: 33\n",
            "Train Set Loss: 0.000741031884898742\n",
            "Valid Set Loss: 0.0052612282395362855\n",
            "Test Set Accuracy: 87.96\n",
            "\n",
            "Epoch: 34\n",
            "Train Set Loss: 0.0007229057994981606\n",
            "Valid Set Loss: 0.005134397500753403\n",
            "Test Set Accuracy: 87.91\n",
            "\n",
            "Epoch: 35\n",
            "Train Set Loss: 0.0007092873672230376\n",
            "Valid Set Loss: 0.005179530519247055\n",
            "Test Set Accuracy: 87.98\n",
            "\n",
            "Epoch: 36\n",
            "Train Set Loss: 0.0007488215390592814\n",
            "Valid Set Loss: 0.005307867032289505\n",
            "Test Set Accuracy: 87.93\n",
            "\n",
            "Epoch: 37\n",
            "Train Set Loss: 0.0007315736752831274\n",
            "Valid Set Loss: 0.005200016409158707\n",
            "Test Set Accuracy: 87.97\n",
            "\n",
            "Epoch: 38\n",
            "Train Set Loss: 0.0007011424507531855\n",
            "Valid Set Loss: 0.005307024300098419\n",
            "Test Set Accuracy: 87.98\n",
            "\n",
            "Epoch: 39\n",
            "Train Set Loss: 0.0007044988022496302\n",
            "Valid Set Loss: 0.005575334900617599\n",
            "Test Set Accuracy: 87.99\n",
            "\n",
            "Epoch: 40\n",
            "Train Set Loss: 0.0007076376248564985\n",
            "Valid Set Loss: 0.005232114094495774\n",
            "Test Set Accuracy: 88.04\n",
            "\n",
            "Epoch: 41\n",
            "Train Set Loss: 0.0007285018056631088\n",
            "Valid Set Loss: 0.005296321094036102\n",
            "Test Set Accuracy: 87.92\n",
            "\n",
            "Epoch: 42\n",
            "Train Set Loss: 0.0007434931962440411\n",
            "Valid Set Loss: 0.005406860780715943\n",
            "Test Set Accuracy: 88.04\n",
            "\n",
            "Epoch: 43\n",
            "Train Set Loss: 0.0007268862329009506\n",
            "Valid Set Loss: 0.005327464556694031\n",
            "Test Set Accuracy: 87.99\n",
            "\n",
            "Epoch: 44\n",
            "Train Set Loss: 0.0007021449115955168\n",
            "Valid Set Loss: 0.005361608678102493\n",
            "Test Set Accuracy: 88.02\n",
            "\n",
            "Epoch: 45\n",
            "Train Set Loss: 0.0007176324530608124\n",
            "Valid Set Loss: 0.005039346498250961\n",
            "Test Set Accuracy: 87.99\n",
            "\n",
            "Epoch: 46\n",
            "Train Set Loss: 0.0007338607754558325\n",
            "Valid Set Loss: 0.005261829710006714\n",
            "Test Set Accuracy: 87.99\n",
            "\n",
            "Epoch: 47\n",
            "Train Set Loss: 0.0007143731054746442\n",
            "Valid Set Loss: 0.004991172343492508\n",
            "Test Set Accuracy: 87.93\n",
            "\n",
            "Epoch: 48\n",
            "Train Set Loss: 0.0007238792076292965\n",
            "Valid Set Loss: 0.005137564387917518\n",
            "Test Set Accuracy: 87.94\n",
            "\n",
            "Epoch: 49\n",
            "Train Set Loss: 0.0007144175012906393\n",
            "Valid Set Loss: 0.005483725917339325\n",
            "Test Set Accuracy: 88.06\n",
            "\n",
            "Epoch: 50\n",
            "Train Set Loss: 0.0007349022554958032\n",
            "Valid Set Loss: 0.00550283932685852\n",
            "Test Set Accuracy: 87.94\n",
            "\n",
            "Epoch: 51\n",
            "Train Set Loss: 0.0007206203893654876\n",
            "Valid Set Loss: 0.005344271326065063\n",
            "Test Set Accuracy: 87.99\n",
            "\n",
            "Epoch: 52\n",
            "Train Set Loss: 0.0007130094522403346\n",
            "Valid Set Loss: 0.005167712086439132\n",
            "Test Set Accuracy: 87.92\n",
            "\n",
            "Epoch: 53\n",
            "Train Set Loss: 0.0007088741315735711\n",
            "Valid Set Loss: 0.005047374302148819\n",
            "Test Set Accuracy: 87.9\n",
            "\n",
            "Epoch: 54\n",
            "Train Set Loss: 0.0006984717329964041\n",
            "Valid Set Loss: 0.005517088651657105\n"
          ]
        },
        {
          "output_type": "error",
          "ename": "KeyboardInterrupt",
          "evalue": "ignored",
          "traceback": [
            "\u001b[0;31m---------------------------------------------------------------------------\u001b[0m",
            "\u001b[0;31mKeyboardInterrupt\u001b[0m                         Traceback (most recent call last)",
            "\u001b[0;32m<ipython-input-35-b00e8426cc13>\u001b[0m in \u001b[0;36m<cell line: 4>\u001b[0;34m()\u001b[0m\n\u001b[1;32m      4\u001b[0m \u001b[0;32mfor\u001b[0m \u001b[0mepoch\u001b[0m \u001b[0;32min\u001b[0m \u001b[0mrange\u001b[0m\u001b[0;34m(\u001b[0m\u001b[0mstart_epoch\u001b[0m\u001b[0;34m,\u001b[0m \u001b[0mstart_epoch\u001b[0m\u001b[0;34m+\u001b[0m\u001b[0;36m100\u001b[0m\u001b[0;34m)\u001b[0m\u001b[0;34m:\u001b[0m\u001b[0;34m\u001b[0m\u001b[0;34m\u001b[0m\u001b[0m\n\u001b[1;32m      5\u001b[0m     \u001b[0mtrain\u001b[0m\u001b[0;34m(\u001b[0m\u001b[0mepoch\u001b[0m\u001b[0;34m)\u001b[0m\u001b[0;34m\u001b[0m\u001b[0;34m\u001b[0m\u001b[0m\n\u001b[0;32m----> 6\u001b[0;31m     \u001b[0mtest\u001b[0m\u001b[0;34m(\u001b[0m\u001b[0mepoch\u001b[0m\u001b[0;34m)\u001b[0m\u001b[0;34m\u001b[0m\u001b[0;34m\u001b[0m\u001b[0m\n\u001b[0m",
            "\u001b[0;32m<ipython-input-26-823f715f2948>\u001b[0m in \u001b[0;36mtest\u001b[0;34m(epoch)\u001b[0m\n\u001b[1;32m      6\u001b[0m     \u001b[0mtotal\u001b[0m \u001b[0;34m=\u001b[0m \u001b[0;36m0\u001b[0m\u001b[0;34m\u001b[0m\u001b[0;34m\u001b[0m\u001b[0m\n\u001b[1;32m      7\u001b[0m     \u001b[0;32mwith\u001b[0m \u001b[0mtorch\u001b[0m\u001b[0;34m.\u001b[0m\u001b[0mno_grad\u001b[0m\u001b[0;34m(\u001b[0m\u001b[0;34m)\u001b[0m\u001b[0;34m:\u001b[0m\u001b[0;34m\u001b[0m\u001b[0;34m\u001b[0m\u001b[0m\n\u001b[0;32m----> 8\u001b[0;31m         \u001b[0;32mfor\u001b[0m \u001b[0mbatch_idx\u001b[0m\u001b[0;34m,\u001b[0m \u001b[0;34m(\u001b[0m\u001b[0minputs\u001b[0m\u001b[0;34m,\u001b[0m \u001b[0mtargets\u001b[0m\u001b[0;34m)\u001b[0m \u001b[0;32min\u001b[0m \u001b[0menumerate\u001b[0m\u001b[0;34m(\u001b[0m\u001b[0mtestloader\u001b[0m\u001b[0;34m)\u001b[0m\u001b[0;34m:\u001b[0m\u001b[0;34m\u001b[0m\u001b[0;34m\u001b[0m\u001b[0m\n\u001b[0m\u001b[1;32m      9\u001b[0m             \u001b[0minputs\u001b[0m\u001b[0;34m,\u001b[0m \u001b[0mtargets\u001b[0m \u001b[0;34m=\u001b[0m \u001b[0minputs\u001b[0m\u001b[0;34m.\u001b[0m\u001b[0mto\u001b[0m\u001b[0;34m(\u001b[0m\u001b[0mdevice\u001b[0m\u001b[0;34m)\u001b[0m\u001b[0;34m,\u001b[0m \u001b[0mtargets\u001b[0m\u001b[0;34m.\u001b[0m\u001b[0mto\u001b[0m\u001b[0;34m(\u001b[0m\u001b[0mdevice\u001b[0m\u001b[0;34m)\u001b[0m\u001b[0;34m\u001b[0m\u001b[0;34m\u001b[0m\u001b[0m\n\u001b[1;32m     10\u001b[0m             \u001b[0moutputs\u001b[0m \u001b[0;34m=\u001b[0m \u001b[0mmodel\u001b[0m\u001b[0;34m(\u001b[0m\u001b[0minputs\u001b[0m\u001b[0;34m)\u001b[0m\u001b[0;34m\u001b[0m\u001b[0;34m\u001b[0m\u001b[0m\n",
            "\u001b[0;32m/usr/local/lib/python3.9/dist-packages/torch/utils/data/dataloader.py\u001b[0m in \u001b[0;36m__next__\u001b[0;34m(self)\u001b[0m\n\u001b[1;32m    632\u001b[0m                 \u001b[0;31m# TODO(https://github.com/pytorch/pytorch/issues/76750)\u001b[0m\u001b[0;34m\u001b[0m\u001b[0;34m\u001b[0m\u001b[0m\n\u001b[1;32m    633\u001b[0m                 \u001b[0mself\u001b[0m\u001b[0;34m.\u001b[0m\u001b[0m_reset\u001b[0m\u001b[0;34m(\u001b[0m\u001b[0;34m)\u001b[0m  \u001b[0;31m# type: ignore[call-arg]\u001b[0m\u001b[0;34m\u001b[0m\u001b[0;34m\u001b[0m\u001b[0m\n\u001b[0;32m--> 634\u001b[0;31m             \u001b[0mdata\u001b[0m \u001b[0;34m=\u001b[0m \u001b[0mself\u001b[0m\u001b[0;34m.\u001b[0m\u001b[0m_next_data\u001b[0m\u001b[0;34m(\u001b[0m\u001b[0;34m)\u001b[0m\u001b[0;34m\u001b[0m\u001b[0;34m\u001b[0m\u001b[0m\n\u001b[0m\u001b[1;32m    635\u001b[0m             \u001b[0mself\u001b[0m\u001b[0;34m.\u001b[0m\u001b[0m_num_yielded\u001b[0m \u001b[0;34m+=\u001b[0m \u001b[0;36m1\u001b[0m\u001b[0;34m\u001b[0m\u001b[0;34m\u001b[0m\u001b[0m\n\u001b[1;32m    636\u001b[0m             \u001b[0;32mif\u001b[0m \u001b[0mself\u001b[0m\u001b[0;34m.\u001b[0m\u001b[0m_dataset_kind\u001b[0m \u001b[0;34m==\u001b[0m \u001b[0m_DatasetKind\u001b[0m\u001b[0;34m.\u001b[0m\u001b[0mIterable\u001b[0m \u001b[0;32mand\u001b[0m\u001b[0;31m \u001b[0m\u001b[0;31m\\\u001b[0m\u001b[0;34m\u001b[0m\u001b[0;34m\u001b[0m\u001b[0m\n",
            "\u001b[0;32m/usr/local/lib/python3.9/dist-packages/torch/utils/data/dataloader.py\u001b[0m in \u001b[0;36m_next_data\u001b[0;34m(self)\u001b[0m\n\u001b[1;32m    676\u001b[0m     \u001b[0;32mdef\u001b[0m \u001b[0m_next_data\u001b[0m\u001b[0;34m(\u001b[0m\u001b[0mself\u001b[0m\u001b[0;34m)\u001b[0m\u001b[0;34m:\u001b[0m\u001b[0;34m\u001b[0m\u001b[0;34m\u001b[0m\u001b[0m\n\u001b[1;32m    677\u001b[0m         \u001b[0mindex\u001b[0m \u001b[0;34m=\u001b[0m \u001b[0mself\u001b[0m\u001b[0;34m.\u001b[0m\u001b[0m_next_index\u001b[0m\u001b[0;34m(\u001b[0m\u001b[0;34m)\u001b[0m  \u001b[0;31m# may raise StopIteration\u001b[0m\u001b[0;34m\u001b[0m\u001b[0;34m\u001b[0m\u001b[0m\n\u001b[0;32m--> 678\u001b[0;31m         \u001b[0mdata\u001b[0m \u001b[0;34m=\u001b[0m \u001b[0mself\u001b[0m\u001b[0;34m.\u001b[0m\u001b[0m_dataset_fetcher\u001b[0m\u001b[0;34m.\u001b[0m\u001b[0mfetch\u001b[0m\u001b[0;34m(\u001b[0m\u001b[0mindex\u001b[0m\u001b[0;34m)\u001b[0m  \u001b[0;31m# may raise StopIteration\u001b[0m\u001b[0;34m\u001b[0m\u001b[0;34m\u001b[0m\u001b[0m\n\u001b[0m\u001b[1;32m    679\u001b[0m         \u001b[0;32mif\u001b[0m \u001b[0mself\u001b[0m\u001b[0;34m.\u001b[0m\u001b[0m_pin_memory\u001b[0m\u001b[0;34m:\u001b[0m\u001b[0;34m\u001b[0m\u001b[0;34m\u001b[0m\u001b[0m\n\u001b[1;32m    680\u001b[0m             \u001b[0mdata\u001b[0m \u001b[0;34m=\u001b[0m \u001b[0m_utils\u001b[0m\u001b[0;34m.\u001b[0m\u001b[0mpin_memory\u001b[0m\u001b[0;34m.\u001b[0m\u001b[0mpin_memory\u001b[0m\u001b[0;34m(\u001b[0m\u001b[0mdata\u001b[0m\u001b[0;34m,\u001b[0m \u001b[0mself\u001b[0m\u001b[0;34m.\u001b[0m\u001b[0m_pin_memory_device\u001b[0m\u001b[0;34m)\u001b[0m\u001b[0;34m\u001b[0m\u001b[0;34m\u001b[0m\u001b[0m\n",
            "\u001b[0;32m/usr/local/lib/python3.9/dist-packages/torch/utils/data/_utils/fetch.py\u001b[0m in \u001b[0;36mfetch\u001b[0;34m(self, possibly_batched_index)\u001b[0m\n\u001b[1;32m     49\u001b[0m                 \u001b[0mdata\u001b[0m \u001b[0;34m=\u001b[0m \u001b[0mself\u001b[0m\u001b[0;34m.\u001b[0m\u001b[0mdataset\u001b[0m\u001b[0;34m.\u001b[0m\u001b[0m__getitems__\u001b[0m\u001b[0;34m(\u001b[0m\u001b[0mpossibly_batched_index\u001b[0m\u001b[0;34m)\u001b[0m\u001b[0;34m\u001b[0m\u001b[0;34m\u001b[0m\u001b[0m\n\u001b[1;32m     50\u001b[0m             \u001b[0;32melse\u001b[0m\u001b[0;34m:\u001b[0m\u001b[0;34m\u001b[0m\u001b[0;34m\u001b[0m\u001b[0m\n\u001b[0;32m---> 51\u001b[0;31m                 \u001b[0mdata\u001b[0m \u001b[0;34m=\u001b[0m \u001b[0;34m[\u001b[0m\u001b[0mself\u001b[0m\u001b[0;34m.\u001b[0m\u001b[0mdataset\u001b[0m\u001b[0;34m[\u001b[0m\u001b[0midx\u001b[0m\u001b[0;34m]\u001b[0m \u001b[0;32mfor\u001b[0m \u001b[0midx\u001b[0m \u001b[0;32min\u001b[0m \u001b[0mpossibly_batched_index\u001b[0m\u001b[0;34m]\u001b[0m\u001b[0;34m\u001b[0m\u001b[0;34m\u001b[0m\u001b[0m\n\u001b[0m\u001b[1;32m     52\u001b[0m         \u001b[0;32melse\u001b[0m\u001b[0;34m:\u001b[0m\u001b[0;34m\u001b[0m\u001b[0;34m\u001b[0m\u001b[0m\n\u001b[1;32m     53\u001b[0m             \u001b[0mdata\u001b[0m \u001b[0;34m=\u001b[0m \u001b[0mself\u001b[0m\u001b[0;34m.\u001b[0m\u001b[0mdataset\u001b[0m\u001b[0;34m[\u001b[0m\u001b[0mpossibly_batched_index\u001b[0m\u001b[0;34m]\u001b[0m\u001b[0;34m\u001b[0m\u001b[0;34m\u001b[0m\u001b[0m\n",
            "\u001b[0;32m/usr/local/lib/python3.9/dist-packages/torch/utils/data/_utils/fetch.py\u001b[0m in \u001b[0;36m<listcomp>\u001b[0;34m(.0)\u001b[0m\n\u001b[1;32m     49\u001b[0m                 \u001b[0mdata\u001b[0m \u001b[0;34m=\u001b[0m \u001b[0mself\u001b[0m\u001b[0;34m.\u001b[0m\u001b[0mdataset\u001b[0m\u001b[0;34m.\u001b[0m\u001b[0m__getitems__\u001b[0m\u001b[0;34m(\u001b[0m\u001b[0mpossibly_batched_index\u001b[0m\u001b[0;34m)\u001b[0m\u001b[0;34m\u001b[0m\u001b[0;34m\u001b[0m\u001b[0m\n\u001b[1;32m     50\u001b[0m             \u001b[0;32melse\u001b[0m\u001b[0;34m:\u001b[0m\u001b[0;34m\u001b[0m\u001b[0;34m\u001b[0m\u001b[0m\n\u001b[0;32m---> 51\u001b[0;31m                 \u001b[0mdata\u001b[0m \u001b[0;34m=\u001b[0m \u001b[0;34m[\u001b[0m\u001b[0mself\u001b[0m\u001b[0;34m.\u001b[0m\u001b[0mdataset\u001b[0m\u001b[0;34m[\u001b[0m\u001b[0midx\u001b[0m\u001b[0;34m]\u001b[0m \u001b[0;32mfor\u001b[0m \u001b[0midx\u001b[0m \u001b[0;32min\u001b[0m \u001b[0mpossibly_batched_index\u001b[0m\u001b[0;34m]\u001b[0m\u001b[0;34m\u001b[0m\u001b[0;34m\u001b[0m\u001b[0m\n\u001b[0m\u001b[1;32m     52\u001b[0m         \u001b[0;32melse\u001b[0m\u001b[0;34m:\u001b[0m\u001b[0;34m\u001b[0m\u001b[0;34m\u001b[0m\u001b[0m\n\u001b[1;32m     53\u001b[0m             \u001b[0mdata\u001b[0m \u001b[0;34m=\u001b[0m \u001b[0mself\u001b[0m\u001b[0;34m.\u001b[0m\u001b[0mdataset\u001b[0m\u001b[0;34m[\u001b[0m\u001b[0mpossibly_batched_index\u001b[0m\u001b[0;34m]\u001b[0m\u001b[0;34m\u001b[0m\u001b[0;34m\u001b[0m\u001b[0m\n",
            "\u001b[0;32m/usr/local/lib/python3.9/dist-packages/torchvision/datasets/cifar.py\u001b[0m in \u001b[0;36m__getitem__\u001b[0;34m(self, index)\u001b[0m\n\u001b[1;32m    116\u001b[0m \u001b[0;34m\u001b[0m\u001b[0m\n\u001b[1;32m    117\u001b[0m         \u001b[0;32mif\u001b[0m \u001b[0mself\u001b[0m\u001b[0;34m.\u001b[0m\u001b[0mtransform\u001b[0m \u001b[0;32mis\u001b[0m \u001b[0;32mnot\u001b[0m \u001b[0;32mNone\u001b[0m\u001b[0;34m:\u001b[0m\u001b[0;34m\u001b[0m\u001b[0;34m\u001b[0m\u001b[0m\n\u001b[0;32m--> 118\u001b[0;31m             \u001b[0mimg\u001b[0m \u001b[0;34m=\u001b[0m \u001b[0mself\u001b[0m\u001b[0;34m.\u001b[0m\u001b[0mtransform\u001b[0m\u001b[0;34m(\u001b[0m\u001b[0mimg\u001b[0m\u001b[0;34m)\u001b[0m\u001b[0;34m\u001b[0m\u001b[0;34m\u001b[0m\u001b[0m\n\u001b[0m\u001b[1;32m    119\u001b[0m \u001b[0;34m\u001b[0m\u001b[0m\n\u001b[1;32m    120\u001b[0m         \u001b[0;32mif\u001b[0m \u001b[0mself\u001b[0m\u001b[0;34m.\u001b[0m\u001b[0mtarget_transform\u001b[0m \u001b[0;32mis\u001b[0m \u001b[0;32mnot\u001b[0m \u001b[0;32mNone\u001b[0m\u001b[0;34m:\u001b[0m\u001b[0;34m\u001b[0m\u001b[0;34m\u001b[0m\u001b[0m\n",
            "\u001b[0;32m/usr/local/lib/python3.9/dist-packages/torchvision/transforms/transforms.py\u001b[0m in \u001b[0;36m__call__\u001b[0;34m(self, img)\u001b[0m\n\u001b[1;32m     93\u001b[0m     \u001b[0;32mdef\u001b[0m \u001b[0m__call__\u001b[0m\u001b[0;34m(\u001b[0m\u001b[0mself\u001b[0m\u001b[0;34m,\u001b[0m \u001b[0mimg\u001b[0m\u001b[0;34m)\u001b[0m\u001b[0;34m:\u001b[0m\u001b[0;34m\u001b[0m\u001b[0;34m\u001b[0m\u001b[0m\n\u001b[1;32m     94\u001b[0m         \u001b[0;32mfor\u001b[0m \u001b[0mt\u001b[0m \u001b[0;32min\u001b[0m \u001b[0mself\u001b[0m\u001b[0;34m.\u001b[0m\u001b[0mtransforms\u001b[0m\u001b[0;34m:\u001b[0m\u001b[0;34m\u001b[0m\u001b[0;34m\u001b[0m\u001b[0m\n\u001b[0;32m---> 95\u001b[0;31m             \u001b[0mimg\u001b[0m \u001b[0;34m=\u001b[0m \u001b[0mt\u001b[0m\u001b[0;34m(\u001b[0m\u001b[0mimg\u001b[0m\u001b[0;34m)\u001b[0m\u001b[0;34m\u001b[0m\u001b[0;34m\u001b[0m\u001b[0m\n\u001b[0m\u001b[1;32m     96\u001b[0m         \u001b[0;32mreturn\u001b[0m \u001b[0mimg\u001b[0m\u001b[0;34m\u001b[0m\u001b[0;34m\u001b[0m\u001b[0m\n\u001b[1;32m     97\u001b[0m \u001b[0;34m\u001b[0m\u001b[0m\n",
            "\u001b[0;32m/usr/local/lib/python3.9/dist-packages/torch/nn/modules/module.py\u001b[0m in \u001b[0;36m_call_impl\u001b[0;34m(self, *args, **kwargs)\u001b[0m\n\u001b[1;32m   1499\u001b[0m                 \u001b[0;32mor\u001b[0m \u001b[0m_global_backward_pre_hooks\u001b[0m \u001b[0;32mor\u001b[0m \u001b[0m_global_backward_hooks\u001b[0m\u001b[0;34m\u001b[0m\u001b[0;34m\u001b[0m\u001b[0m\n\u001b[1;32m   1500\u001b[0m                 or _global_forward_hooks or _global_forward_pre_hooks):\n\u001b[0;32m-> 1501\u001b[0;31m             \u001b[0;32mreturn\u001b[0m \u001b[0mforward_call\u001b[0m\u001b[0;34m(\u001b[0m\u001b[0;34m*\u001b[0m\u001b[0margs\u001b[0m\u001b[0;34m,\u001b[0m \u001b[0;34m**\u001b[0m\u001b[0mkwargs\u001b[0m\u001b[0;34m)\u001b[0m\u001b[0;34m\u001b[0m\u001b[0;34m\u001b[0m\u001b[0m\n\u001b[0m\u001b[1;32m   1502\u001b[0m         \u001b[0;31m# Do not call functions when jit is used\u001b[0m\u001b[0;34m\u001b[0m\u001b[0;34m\u001b[0m\u001b[0m\n\u001b[1;32m   1503\u001b[0m         \u001b[0mfull_backward_hooks\u001b[0m\u001b[0;34m,\u001b[0m \u001b[0mnon_full_backward_hooks\u001b[0m \u001b[0;34m=\u001b[0m \u001b[0;34m[\u001b[0m\u001b[0;34m]\u001b[0m\u001b[0;34m,\u001b[0m \u001b[0;34m[\u001b[0m\u001b[0;34m]\u001b[0m\u001b[0;34m\u001b[0m\u001b[0;34m\u001b[0m\u001b[0m\n",
            "\u001b[0;32m/usr/local/lib/python3.9/dist-packages/torchvision/transforms/transforms.py\u001b[0m in \u001b[0;36mforward\u001b[0;34m(self, tensor)\u001b[0m\n\u001b[1;32m    275\u001b[0m             \u001b[0mTensor\u001b[0m\u001b[0;34m:\u001b[0m \u001b[0mNormalized\u001b[0m \u001b[0mTensor\u001b[0m \u001b[0mimage\u001b[0m\u001b[0;34m.\u001b[0m\u001b[0;34m\u001b[0m\u001b[0;34m\u001b[0m\u001b[0m\n\u001b[1;32m    276\u001b[0m         \"\"\"\n\u001b[0;32m--> 277\u001b[0;31m         \u001b[0;32mreturn\u001b[0m \u001b[0mF\u001b[0m\u001b[0;34m.\u001b[0m\u001b[0mnormalize\u001b[0m\u001b[0;34m(\u001b[0m\u001b[0mtensor\u001b[0m\u001b[0;34m,\u001b[0m \u001b[0mself\u001b[0m\u001b[0;34m.\u001b[0m\u001b[0mmean\u001b[0m\u001b[0;34m,\u001b[0m \u001b[0mself\u001b[0m\u001b[0;34m.\u001b[0m\u001b[0mstd\u001b[0m\u001b[0;34m,\u001b[0m \u001b[0mself\u001b[0m\u001b[0;34m.\u001b[0m\u001b[0minplace\u001b[0m\u001b[0;34m)\u001b[0m\u001b[0;34m\u001b[0m\u001b[0;34m\u001b[0m\u001b[0m\n\u001b[0m\u001b[1;32m    278\u001b[0m \u001b[0;34m\u001b[0m\u001b[0m\n\u001b[1;32m    279\u001b[0m     \u001b[0;32mdef\u001b[0m \u001b[0m__repr__\u001b[0m\u001b[0;34m(\u001b[0m\u001b[0mself\u001b[0m\u001b[0;34m)\u001b[0m \u001b[0;34m->\u001b[0m \u001b[0mstr\u001b[0m\u001b[0;34m:\u001b[0m\u001b[0;34m\u001b[0m\u001b[0;34m\u001b[0m\u001b[0m\n",
            "\u001b[0;32m/usr/local/lib/python3.9/dist-packages/torchvision/transforms/functional.py\u001b[0m in \u001b[0;36mnormalize\u001b[0;34m(tensor, mean, std, inplace)\u001b[0m\n\u001b[1;32m    361\u001b[0m         \u001b[0;32mraise\u001b[0m \u001b[0mTypeError\u001b[0m\u001b[0;34m(\u001b[0m\u001b[0;34mf\"img should be Tensor Image. Got {type(tensor)}\"\u001b[0m\u001b[0;34m)\u001b[0m\u001b[0;34m\u001b[0m\u001b[0;34m\u001b[0m\u001b[0m\n\u001b[1;32m    362\u001b[0m \u001b[0;34m\u001b[0m\u001b[0m\n\u001b[0;32m--> 363\u001b[0;31m     \u001b[0;32mreturn\u001b[0m \u001b[0mF_t\u001b[0m\u001b[0;34m.\u001b[0m\u001b[0mnormalize\u001b[0m\u001b[0;34m(\u001b[0m\u001b[0mtensor\u001b[0m\u001b[0;34m,\u001b[0m \u001b[0mmean\u001b[0m\u001b[0;34m=\u001b[0m\u001b[0mmean\u001b[0m\u001b[0;34m,\u001b[0m \u001b[0mstd\u001b[0m\u001b[0;34m=\u001b[0m\u001b[0mstd\u001b[0m\u001b[0;34m,\u001b[0m \u001b[0minplace\u001b[0m\u001b[0;34m=\u001b[0m\u001b[0minplace\u001b[0m\u001b[0;34m)\u001b[0m\u001b[0;34m\u001b[0m\u001b[0;34m\u001b[0m\u001b[0m\n\u001b[0m\u001b[1;32m    364\u001b[0m \u001b[0;34m\u001b[0m\u001b[0m\n\u001b[1;32m    365\u001b[0m \u001b[0;34m\u001b[0m\u001b[0m\n",
            "\u001b[0;32m/usr/local/lib/python3.9/dist-packages/torchvision/transforms/_functional_tensor.py\u001b[0m in \u001b[0;36mnormalize\u001b[0;34m(tensor, mean, std, inplace)\u001b[0m\n\u001b[1;32m    926\u001b[0m     \u001b[0;32mif\u001b[0m \u001b[0mstd\u001b[0m\u001b[0;34m.\u001b[0m\u001b[0mndim\u001b[0m \u001b[0;34m==\u001b[0m \u001b[0;36m1\u001b[0m\u001b[0;34m:\u001b[0m\u001b[0;34m\u001b[0m\u001b[0;34m\u001b[0m\u001b[0m\n\u001b[1;32m    927\u001b[0m         \u001b[0mstd\u001b[0m \u001b[0;34m=\u001b[0m \u001b[0mstd\u001b[0m\u001b[0;34m.\u001b[0m\u001b[0mview\u001b[0m\u001b[0;34m(\u001b[0m\u001b[0;34m-\u001b[0m\u001b[0;36m1\u001b[0m\u001b[0;34m,\u001b[0m \u001b[0;36m1\u001b[0m\u001b[0;34m,\u001b[0m \u001b[0;36m1\u001b[0m\u001b[0;34m)\u001b[0m\u001b[0;34m\u001b[0m\u001b[0;34m\u001b[0m\u001b[0m\n\u001b[0;32m--> 928\u001b[0;31m     \u001b[0;32mreturn\u001b[0m \u001b[0mtensor\u001b[0m\u001b[0;34m.\u001b[0m\u001b[0msub_\u001b[0m\u001b[0;34m(\u001b[0m\u001b[0mmean\u001b[0m\u001b[0;34m)\u001b[0m\u001b[0;34m.\u001b[0m\u001b[0mdiv_\u001b[0m\u001b[0;34m(\u001b[0m\u001b[0mstd\u001b[0m\u001b[0;34m)\u001b[0m\u001b[0;34m\u001b[0m\u001b[0;34m\u001b[0m\u001b[0m\n\u001b[0m\u001b[1;32m    929\u001b[0m \u001b[0;34m\u001b[0m\u001b[0m\n\u001b[1;32m    930\u001b[0m \u001b[0;34m\u001b[0m\u001b[0m\n",
            "\u001b[0;31mKeyboardInterrupt\u001b[0m: "
          ]
        }
      ]
    },
    {
      "cell_type": "code",
      "source": [
        "for g in optimizer.param_groups:\n",
        "    print(optimizer.param_groups[0]['lr'])\n",
        "    g['lr'] = 0.001"
      ],
      "metadata": {
        "colab": {
          "base_uri": "https://localhost:8080/"
        },
        "id": "1XS9hEnaR0M2",
        "outputId": "fc73fd74-7af9-45dc-b6d4-c619e7dfc702"
      },
      "execution_count": null,
      "outputs": [
        {
          "output_type": "stream",
          "name": "stdout",
          "text": [
            "0.009755282581475762\n"
          ]
        }
      ]
    },
    {
      "cell_type": "code",
      "source": [
        "start_epoch = 20  # start from epoch 0 or last checkpoint epoch\n",
        "\n",
        "for epoch in range(start_epoch, start_epoch+20):\n",
        "    train(epoch)\n",
        "    test(epoch)\n",
        "    scheduler.step()"
      ],
      "metadata": {
        "colab": {
          "base_uri": "https://localhost:8080/"
        },
        "id": "ulxHcGSzRFwn",
        "outputId": "140d6d9f-f9be-4959-ae88-99e5e72300f2"
      },
      "execution_count": null,
      "outputs": [
        {
          "output_type": "stream",
          "name": "stdout",
          "text": [
            "\n",
            "Epoch: 20\n",
            "Train Set Loss: 1608.802843336016\n",
            "Test Set Accuracy: 84.92\n",
            "\n",
            "Epoch: 21\n",
            "Train Set Loss: 1600.1520833522081\n",
            "Test Set Accuracy: 84.78\n",
            "\n",
            "Epoch: 22\n",
            "Train Set Loss: 1603.364780113101\n",
            "Saving..\n",
            "Test Set Accuracy: 85.25\n",
            "\n",
            "Epoch: 23\n",
            "Train Set Loss: 1588.7829240709543\n",
            "Test Set Accuracy: 84.84\n",
            "\n",
            "Epoch: 24\n",
            "Train Set Loss: 1568.23423044011\n",
            "Test Set Accuracy: 84.67\n",
            "\n",
            "Epoch: 25\n",
            "Train Set Loss: 1573.033382985741\n",
            "Test Set Accuracy: 85.03\n",
            "\n",
            "Epoch: 26\n",
            "Train Set Loss: 1551.8274260181934\n",
            "Test Set Accuracy: 85.06\n",
            "\n",
            "Epoch: 27\n",
            "Train Set Loss: 1550.0797832719982\n",
            "Test Set Accuracy: 84.81\n",
            "\n",
            "Epoch: 28\n",
            "Train Set Loss: 1532.4724542461336\n",
            "Test Set Accuracy: 85.0\n",
            "\n",
            "Epoch: 29\n",
            "Train Set Loss: 1534.7018443811685\n",
            "Test Set Accuracy: 85.04\n",
            "\n",
            "Epoch: 30\n",
            "Train Set Loss: 1527.4907198138535\n",
            "Saving..\n",
            "Test Set Accuracy: 85.49\n",
            "\n",
            "Epoch: 31\n",
            "Train Set Loss: 1529.2671598959714\n",
            "Test Set Accuracy: 85.42\n",
            "\n",
            "Epoch: 32\n",
            "Train Set Loss: 1498.2877764441073\n",
            "Test Set Accuracy: 85.29\n",
            "\n",
            "Epoch: 33\n",
            "Train Set Loss: 1524.1687925569713\n",
            "Test Set Accuracy: 85.38\n",
            "\n",
            "Epoch: 34\n",
            "Train Set Loss: 1509.602747309953\n",
            "Test Set Accuracy: 85.46\n",
            "\n",
            "Epoch: 35\n",
            "Train Set Loss: 1509.0300510190427\n",
            "Test Set Accuracy: 85.47\n",
            "\n",
            "Epoch: 36\n",
            "Train Set Loss: 1496.4604301415384\n",
            "Test Set Accuracy: 85.13\n",
            "\n",
            "Epoch: 37\n",
            "Train Set Loss: 1490.8240822069347\n",
            "Test Set Accuracy: 85.36\n",
            "\n",
            "Epoch: 38\n",
            "Train Set Loss: 1470.6754326988012\n",
            "Test Set Accuracy: 85.27\n",
            "\n",
            "Epoch: 39\n",
            "Train Set Loss: 1450.0468679480255\n",
            "Saving..\n",
            "Test Set Accuracy: 85.56\n"
          ]
        }
      ]
    },
    {
      "cell_type": "code",
      "source": [],
      "metadata": {
        "id": "QV9GS1HGRFyz"
      },
      "execution_count": null,
      "outputs": []
    },
    {
      "cell_type": "code",
      "source": [],
      "metadata": {
        "id": "lo0BGv5cRF39"
      },
      "execution_count": null,
      "outputs": []
    },
    {
      "cell_type": "code",
      "source": [],
      "metadata": {
        "id": "9AFmB7xGRF6S"
      },
      "execution_count": null,
      "outputs": []
    },
    {
      "cell_type": "code",
      "source": [],
      "metadata": {
        "id": "zoRGtBBaRF8g"
      },
      "execution_count": null,
      "outputs": []
    },
    {
      "cell_type": "code",
      "source": [],
      "metadata": {
        "id": "q3OJaGSsRGCp"
      },
      "execution_count": null,
      "outputs": []
    },
    {
      "cell_type": "code",
      "source": [
        "optimizer.param_groups[0]['lr'] # adam lr after 20 epoch -> 0.009755"
      ],
      "metadata": {
        "colab": {
          "base_uri": "https://localhost:8080/"
        },
        "id": "swnA-cyoQvc2",
        "outputId": "9111b108-19e3-48ed-df71-fae7d477212c"
      },
      "execution_count": null,
      "outputs": [
        {
          "output_type": "execute_result",
          "data": {
            "text/plain": [
              "0.009755282581475762"
            ]
          },
          "metadata": {},
          "execution_count": 30
        }
      ]
    },
    {
      "cell_type": "code",
      "source": [],
      "metadata": {
        "id": "8m0tUNP3QvhZ"
      },
      "execution_count": null,
      "outputs": []
    },
    {
      "cell_type": "code",
      "source": [
        "print('Accuracy: ',test(0))"
      ],
      "metadata": {
        "id": "COW3YCVV2oNa",
        "colab": {
          "base_uri": "https://localhost:8080/"
        },
        "outputId": "4a31f094-4823-4971-f7df-64c6d6dc6deb"
      },
      "execution_count": null,
      "outputs": [
        {
          "output_type": "stream",
          "name": "stdout",
          "text": [
            "Saving..\n",
            "Accuracy: 10.0\n",
            "Accuracy:  10.0\n"
          ]
        }
      ]
    },
    {
      "cell_type": "code",
      "source": [],
      "metadata": {
        "id": "VkQa44cg2oUo"
      },
      "execution_count": null,
      "outputs": []
    }
  ]
}